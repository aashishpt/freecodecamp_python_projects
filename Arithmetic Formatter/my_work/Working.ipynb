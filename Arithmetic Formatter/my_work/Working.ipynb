{
 "cells": [
  {
   "cell_type": "code",
   "execution_count": 1,
   "metadata": {},
   "outputs": [
    {
     "data": {
      "text/plain": [
       "'32 + 698'"
      ]
     },
     "execution_count": 1,
     "metadata": {},
     "output_type": "execute_result"
    }
   ],
   "source": [
    "t = \"32 + 698\"\n",
    "t"
   ]
  },
  {
   "cell_type": "code",
   "execution_count": 2,
   "metadata": {},
   "outputs": [
    {
     "data": {
      "text/plain": [
       "'c:\\\\Z\\\\Data\\\\DC\\\\Courses\\\\freecodecamp\\\\python\\\\projects\\\\ArithmaticArranger\\\\my_work'"
      ]
     },
     "execution_count": 2,
     "metadata": {},
     "output_type": "execute_result"
    }
   ],
   "source": [
    "%pwd"
   ]
  },
  {
   "cell_type": "code",
   "execution_count": 3,
   "metadata": {},
   "outputs": [
    {
     "data": {
      "text/plain": [
       "['32', '+', '698']"
      ]
     },
     "execution_count": 3,
     "metadata": {},
     "output_type": "execute_result"
    }
   ],
   "source": [
    "t1 = t.split()\n",
    "t1"
   ]
  },
  {
   "cell_type": "code",
   "execution_count": 4,
   "metadata": {},
   "outputs": [
    {
     "data": {
      "text/plain": [
       "3"
      ]
     },
     "execution_count": 4,
     "metadata": {},
     "output_type": "execute_result"
    }
   ],
   "source": [
    "l = max(len(t1[0]),len(t1[2])) \n",
    "l"
   ]
  },
  {
   "cell_type": "code",
   "execution_count": 5,
   "metadata": {},
   "outputs": [
    {
     "name": "stdout",
     "output_type": "stream",
     "text": [
      "   32\n"
     ]
    }
   ],
   "source": [
    "print(t1[0].rjust(l+2))"
   ]
  },
  {
   "cell_type": "code",
   "execution_count": 6,
   "metadata": {},
   "outputs": [
    {
     "name": "stdout",
     "output_type": "stream",
     "text": [
      "+ 698\n"
     ]
    }
   ],
   "source": [
    "print((t1[1] + \" \" + t1[2]).rjust(l))"
   ]
  },
  {
   "cell_type": "code",
   "execution_count": 7,
   "metadata": {},
   "outputs": [
    {
     "name": "stdout",
     "output_type": "stream",
     "text": [
      "   32\n",
      "+ 698\n"
     ]
    }
   ],
   "source": [
    "print(t1[0].rjust(l+2))\n",
    "print((t1[1] + \" \" + t1[2]).rjust(l))"
   ]
  },
  {
   "cell_type": "code",
   "execution_count": 8,
   "metadata": {},
   "outputs": [
    {
     "name": "stdout",
     "output_type": "stream",
     "text": [
      "   32\n",
      "+ 698\n",
      "-----\n"
     ]
    }
   ],
   "source": [
    "print(t1[0].rjust(l+2))\n",
    "print((t1[1] + \" \" + t1[2].rjust(l)))\n",
    "\n",
    "print(\"-\"*(l+2))"
   ]
  },
  {
   "cell_type": "code",
   "execution_count": 9,
   "metadata": {},
   "outputs": [],
   "source": [
    "def evaluate(s:str):\n",
    "    t = s.split()\n",
    "\n",
    "    if t[1] == '+':\n",
    "        res = int((t[0])) + int((t[2]))\n",
    "        return str(res)\n",
    "    \n",
    "    elif t[1] == '-':\n",
    "        res = int(t[0]) - int(t[2])\n",
    "        return str(res)\n",
    "    "
   ]
  },
  {
   "cell_type": "code",
   "execution_count": 10,
   "metadata": {},
   "outputs": [
    {
     "name": "stdout",
     "output_type": "stream",
     "text": [
      "730\n"
     ]
    }
   ],
   "source": [
    "print(evaluate(t))"
   ]
  },
  {
   "cell_type": "code",
   "execution_count": 11,
   "metadata": {},
   "outputs": [
    {
     "data": {
      "text/plain": [
       "'-3800'"
      ]
     },
     "execution_count": 11,
     "metadata": {},
     "output_type": "execute_result"
    }
   ],
   "source": [
    "evaluate(\"1 - 3801\")"
   ]
  },
  {
   "cell_type": "markdown",
   "metadata": {},
   "source": [
    "# finalized version for single expression, no error handling"
   ]
  },
  {
   "cell_type": "code",
   "execution_count": 12,
   "metadata": {},
   "outputs": [],
   "source": [
    "def evaluate(s:str):\n",
    "    t = s.split()\n",
    "\n",
    "    if t[1] == '+':\n",
    "        res = int((t[0])) + int((t[2]))\n",
    "        return str(res)\n",
    "    \n",
    "    elif t[1] == '-':\n",
    "        res = int(t[0]) - int(t[2])\n",
    "        return str(res)"
   ]
  },
  {
   "cell_type": "code",
   "execution_count": 13,
   "metadata": {},
   "outputs": [
    {
     "name": "stdout",
     "output_type": "stream",
     "text": [
      "   32\n",
      "+ 698\n",
      "-----\n",
      "  730\n"
     ]
    }
   ],
   "source": [
    "\n",
    "\n",
    "#t = \"3801 - 2\"\n",
    "#t = \"45 + 43\"\n",
    "#t = \"9999 + 9999\"\n",
    "exp = \"523 - 49\"\n",
    "#t = \"32 + 698\"\n",
    "\n",
    "# splits the string ['num1','operation','num2']\n",
    "exp_split = t.split()\n",
    "\n",
    "# calculates the maximum length of number-string\n",
    "l = max(len(exp_split[0]),len(exp_split[2])) \n",
    "\n",
    "# prints first number  \n",
    "# with right justification of l+2 as calculated above \n",
    "print(exp_split[0].rjust(l+2))\n",
    "\n",
    "# prints second number with operation symbol and blankspace \n",
    "# with right justification of l+2 calculated above \n",
    "print((exp_split[1] + \" \" + exp_split[2].rjust(l)))\n",
    "\n",
    "# prints separator line\n",
    "print(\"-\"*(l+2))\n",
    "\n",
    "# prints final answer with rjust l+2\n",
    "print(evaluate(t).rjust(l+2))"
   ]
  },
  {
   "cell_type": "code",
   "execution_count": 14,
   "metadata": {},
   "outputs": [
    {
     "data": {
      "text/plain": [
       "'abc,xy,zz'"
      ]
     },
     "execution_count": 14,
     "metadata": {},
     "output_type": "execute_result"
    }
   ],
   "source": [
    "\",\".join(['abc','xy','zz'])"
   ]
  },
  {
   "cell_type": "code",
   "execution_count": null,
   "metadata": {},
   "outputs": [],
   "source": []
  },
  {
   "cell_type": "code",
   "execution_count": 15,
   "metadata": {},
   "outputs": [],
   "source": [
    "first_str_list = []\n",
    "second_str_list = []\n",
    "sep_str_list = []\n",
    "ans_str_list = []\n",
    "\n",
    "\n",
    "exps = [\"32 + 698\", \"3801 - 2\"]\n"
   ]
  },
  {
   "cell_type": "code",
   "execution_count": 16,
   "metadata": {},
   "outputs": [],
   "source": [
    "first_str_list = []\n",
    "second_str_list = []\n",
    "sep_str_list = []\n",
    "ans_str_list = []\n",
    "\n",
    "\n",
    "exps = [\"3 + 855\", \"3801 - 2\", \"45 + 43\", \"123 + 49\"]\n",
    "\n",
    "for exp in exps:\n",
    "    # splits the string ['num1','operation','num2']\n",
    "    exp_split = exp.split()\n",
    "\n",
    "    # calculates the maximum length of number-string\n",
    "    l = max(len(exp_split[0]),len(exp_split[2])) \n",
    "\n",
    "    # prints first number  \n",
    "    # with right justification of l+2 as calculated above \n",
    "    first_str_list.append(exp_split[0].rjust(l+2))\n",
    "\n",
    "    # prints second number with operation symbol and blankspace \n",
    "    # with right justification of l+2 calculated above \n",
    "    second_str_list.append((exp_split[1] + \" \" + exp_split[2].rjust(l)))\n",
    "\n",
    "    # prints separator line\n",
    "    sep_str_list.append(\"-\"*(l+2))\n",
    "\n",
    "    # prints final answer with rjust l+2\n",
    "    ans_str_list.append(evaluate(exp).rjust(l+2))\n",
    "    \n",
    "    #print(\"  \".join(first_str_list))\n",
    "    #print(\"  \".join(second_str_list))\n",
    "    #print(\"  \".join(sep_str_list))\n",
    "    #print(\"  \".join(ans_str_list))\n",
    "    \n",
    "    first =(\"  \".join(first_str_list))\n",
    "    second = (\"  \".join(second_str_list))\n",
    "    sep = (\"  \".join(sep_str_list))\n",
    "    ans = (\"  \".join(ans_str_list))\n",
    "    \n",
    "    res_without_solution = first + '\\n' + second + '\\n' + sep\n",
    "    res_with_solution = first + '\\n' + second + '\\n' + sep + '\\n' + ans"
   ]
  },
  {
   "cell_type": "code",
   "execution_count": 17,
   "metadata": {},
   "outputs": [],
   "source": [
    "# print(\"  \".join(first_str_list))\n",
    "# print(\"  \".join(second_str_list))\n",
    "# print(\"  \".join(sep_str_list))\n",
    "# print(\"  \".join(ans_str_list))\n",
    "\n",
    "# print(first)\n",
    "# print(second)  \n",
    "# print(sep)\n",
    "# print(ans)\n",
    "\n",
    "# res_without_solution\n",
    "\n",
    "# print(res_without_solution)\n",
    "\n",
    "# print(res_with_solution)"
   ]
  },
  {
   "cell_type": "code",
   "execution_count": null,
   "metadata": {},
   "outputs": [],
   "source": []
  },
  {
   "cell_type": "code",
   "execution_count": 39,
   "metadata": {},
   "outputs": [],
   "source": [
    "\n",
    "def evaluate(s:str)->str:\n",
    "    t = s.split()\n",
    "    res = ''\n",
    "    \n",
    "    if t[1] not in ['+','-']:\n",
    "        return \"Error: Operator must be '+' or '-'.\"\n",
    "    \n",
    "    try:\n",
    "        t1 = int(t[0])\n",
    "        t2 = int(t[2])\n",
    "       \n",
    "    except ValueError:\n",
    "        return \"Error: Numbers must only contain digits.\"\n",
    "    \n",
    "    if (t1>9999 or t2>9999):\n",
    "        return \"Error: Numbers cannot be more than four digits.\"\n",
    "    \n",
    "    if t[1] == '+':\n",
    "        res = int((t[0])) + int((t[2]))\n",
    "        return str(res)\n",
    "    \n",
    "    elif t[1] == '-':\n",
    "        res = int(t[0]) - int(t[2])\n",
    "        return str(res)\n",
    "    \n",
    "\n",
    "def arithmetic_arranger(problems:list,answers=False):\n",
    "    \n",
    "    if len(problems)>5:\n",
    "        return \"Error: Too many problems.\"\n",
    "    # initiate empty variables needed\n",
    "    first_str_list = []\n",
    "    second_str_list = []\n",
    "    sep_str_list = []\n",
    "    ans_str_list = []\n",
    "\n",
    "\n",
    "    exps = problems\n",
    "\n",
    "    for exp in exps:\n",
    "        # splits the string ['num1','operation','num2']\n",
    "        exp_split = exp.split()\n",
    "\n",
    "        # calculates the maximum length of number-string\n",
    "        l = max(len(exp_split[0]),len(exp_split[2])) \n",
    "        \n",
    "        ans = evaluate(exp)\n",
    "        if \"Error\" in ans:\n",
    "            if '+' in ans:\n",
    "                return \"Error: Operator must be '+' or '-'.\"\n",
    "            elif 'must' in ans:\n",
    "                return \"Error: Numbers must only contain digits.\"\n",
    "            else:\n",
    "                return \"Error: Numbers cannot be more than four digits.\"\n",
    "        # prints first number  \n",
    "        # with right justification of l+2 as calculated above \n",
    "        first_str_list.append(exp_split[0].rjust(l+2))\n",
    "\n",
    "        # prints second number with operation symbol and blankspace \n",
    "        # with right justification of l+2 calculated above \n",
    "        second_str_list.append((exp_split[1] + \" \" + exp_split[2].rjust(l)))\n",
    "\n",
    "        # prints separator line\n",
    "        sep_str_list.append(\"-\"*(l+2))\n",
    "\n",
    "        # prints final answer with rjust l+2\n",
    "        ans_str_list.append(evaluate(exp).rjust(l+2))\n",
    "    \n",
    "    \n",
    "        first =(\"    \".join(first_str_list))\n",
    "        second = (\"    \".join(second_str_list))\n",
    "        sep = (\"    \".join(sep_str_list))\n",
    "        ans = (\"    \".join(ans_str_list))\n",
    "    \n",
    "        res_without_solution = first + '\\n' + second + '\\n' + sep\n",
    "        res_with_solution = first + '\\n' + second + '\\n' + sep + '\\n' + ans\n",
    "        \n",
    "        if answers == True:\n",
    "            arranged_problems = res_with_solution\n",
    "        else:\n",
    "            arranged_problems = res_without_solution\n",
    "            \n",
    "\n",
    "    return arranged_problems"
   ]
  },
  {
   "cell_type": "code",
   "execution_count": 40,
   "metadata": {},
   "outputs": [
    {
     "data": {
      "text/plain": [
       "'    3      3801      45      123\\n+ 855    -    2    + 43    +  49\\n-----    ------    ----    -----'"
      ]
     },
     "execution_count": 40,
     "metadata": {},
     "output_type": "execute_result"
    }
   ],
   "source": [
    "arithmetic_arranger([\"3 + 855\", \"3801 - 2\", \"45 + 43\", \"123 + 49\"])"
   ]
  },
  {
   "cell_type": "code",
   "execution_count": 41,
   "metadata": {},
   "outputs": [
    {
     "name": "stdout",
     "output_type": "stream",
     "text": [
      "    3      3801      45      123\n",
      "+ 855    -    2    + 43    +  49\n",
      "-----    ------    ----    -----\n",
      "  858      3799      88      172\n"
     ]
    }
   ],
   "source": [
    "print(arithmetic_arranger([\"3 + 855\", \"3801 - 2\", \"45 + 43\", \"123 + 49\"],True))"
   ]
  },
  {
   "cell_type": "code",
   "execution_count": 42,
   "metadata": {},
   "outputs": [],
   "source": [
    "actual = arithmetic_arranger([\"3 / 855\", \"3801 - 2\", \"45 + 43\", \"123 + 49\"])\n",
    "expected = \"Error: Operator must be '+' or '-'.\"\n"
   ]
  },
  {
   "cell_type": "code",
   "execution_count": 43,
   "metadata": {},
   "outputs": [
    {
     "data": {
      "text/plain": [
       "\"Error: Operator must be '+' or '-'.\""
      ]
     },
     "execution_count": 43,
     "metadata": {},
     "output_type": "execute_result"
    }
   ],
   "source": [
    "actual"
   ]
  },
  {
   "cell_type": "code",
   "execution_count": 44,
   "metadata": {},
   "outputs": [
    {
     "data": {
      "text/plain": [
       "\"Error: Operator must be '+' or '-'.\""
      ]
     },
     "execution_count": 44,
     "metadata": {},
     "output_type": "execute_result"
    }
   ],
   "source": [
    "expected"
   ]
  },
  {
   "cell_type": "code",
   "execution_count": 37,
   "metadata": {},
   "outputs": [
    {
     "data": {
      "text/plain": [
       "\"Error: Operator must be '+' or '-'.\""
      ]
     },
     "execution_count": 37,
     "metadata": {},
     "output_type": "execute_result"
    }
   ],
   "source": [
    "evaluate(\"3 / 855\")"
   ]
  },
  {
   "cell_type": "code",
   "execution_count": 45,
   "metadata": {},
   "outputs": [
    {
     "data": {
      "text/plain": [
       "\"Error: Operator must be '+' or '-'.\""
      ]
     },
     "execution_count": 45,
     "metadata": {},
     "output_type": "execute_result"
    }
   ],
   "source": [
    "arithmetic_arranger([\"3 / 855\", \"3801 - 2\", \"45 + 43\", \"123 + 49\"])"
   ]
  }
 ],
 "metadata": {
  "kernelspec": {
   "display_name": "Python 3",
   "language": "python",
   "name": "python3"
  },
  "language_info": {
   "codemirror_mode": {
    "name": "ipython",
    "version": 3
   },
   "file_extension": ".py",
   "mimetype": "text/x-python",
   "name": "python",
   "nbconvert_exporter": "python",
   "pygments_lexer": "ipython3",
   "version": "3.7.5"
  }
 },
 "nbformat": 4,
 "nbformat_minor": 4
}
