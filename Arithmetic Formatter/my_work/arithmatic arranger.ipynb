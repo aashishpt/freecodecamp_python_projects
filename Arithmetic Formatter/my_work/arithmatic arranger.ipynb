{
 "cells": [
  {
   "cell_type": "code",
   "execution_count": null,
   "metadata": {},
   "outputs": [],
   "source": [
    "t = \"32 + 698\"\n",
    "t"
   ]
  },
  {
   "cell_type": "code",
   "execution_count": null,
   "metadata": {},
   "outputs": [],
   "source": [
    "t1 = t.split()\n",
    "t1"
   ]
  },
  {
   "cell_type": "code",
   "execution_count": null,
   "metadata": {},
   "outputs": [],
   "source": [
    "l = max(len(t1[0]),len(t1[2])) \n",
    "l"
   ]
  },
  {
   "cell_type": "code",
   "execution_count": null,
   "metadata": {},
   "outputs": [],
   "source": [
    "print(t1[0].rjust(l+2))"
   ]
  },
  {
   "cell_type": "code",
   "execution_count": null,
   "metadata": {},
   "outputs": [],
   "source": [
    "print((t1[1] + \" \" + t1[2]).rjust(l))"
   ]
  },
  {
   "cell_type": "code",
   "execution_count": null,
   "metadata": {},
   "outputs": [],
   "source": [
    "print(t1[0].rjust(l+2))\n",
    "print((t1[1] + \" \" + t1[2]).rjust(l))"
   ]
  },
  {
   "cell_type": "code",
   "execution_count": null,
   "metadata": {},
   "outputs": [],
   "source": [
    "print(t1[0].rjust(l+2))\n",
    "print((t1[1] + \" \" + t1[2].rjust(l)))\n",
    "\n",
    "print(\"-\"*(l+2))"
   ]
  },
  {
   "cell_type": "code",
   "execution_count": null,
   "metadata": {},
   "outputs": [],
   "source": [
    "def evaluate(s:str):\n",
    "    t = s.split()\n",
    "\n",
    "    if t[1] == '+':\n",
    "        res = int((t[0])) + int((t[2]))\n",
    "        return str(res)\n",
    "    \n",
    "    elif t[1] == '-':\n",
    "        res = int(t[0]) - int(t[2])\n",
    "        return str(res)\n",
    "    "
   ]
  },
  {
   "cell_type": "code",
   "execution_count": null,
   "metadata": {},
   "outputs": [],
   "source": [
    "print(evaluate(t))"
   ]
  },
  {
   "cell_type": "code",
   "execution_count": null,
   "metadata": {},
   "outputs": [],
   "source": [
    "evaluate(\"1 - 3801\")"
   ]
  },
  {
   "cell_type": "markdown",
   "metadata": {},
   "source": [
    "# finalized version for single expression, no error handling"
   ]
  },
  {
   "cell_type": "code",
   "execution_count": null,
   "metadata": {},
   "outputs": [],
   "source": [
    "def evaluate(s:str):\n",
    "    t = s.split()\n",
    "\n",
    "    if t[1] == '+':\n",
    "        res = int((t[0])) + int((t[2]))\n",
    "        return str(res)\n",
    "    \n",
    "    elif t[1] == '-':\n",
    "        res = int(t[0]) - int(t[2])\n",
    "        return str(res)"
   ]
  },
  {
   "cell_type": "code",
   "execution_count": null,
   "metadata": {},
   "outputs": [],
   "source": [
    "\n",
    "\n",
    "#t = \"3801 - 2\"\n",
    "#t = \"45 + 43\"\n",
    "#t = \"9999 + 9999\"\n",
    "exp = \"523 - 49\"\n",
    "#t = \"32 + 698\"\n",
    "\n",
    "# splits the string ['num1','operation','num2']\n",
    "exp_split = t.split()\n",
    "\n",
    "# calculates the maximum length of number-string\n",
    "l = max(len(exp_split[0]),len(exp_split[2])) \n",
    "\n",
    "# prints first number  \n",
    "# with right justification of l+2 as calculated above \n",
    "print(exp_split[0].rjust(l+2))\n",
    "\n",
    "# prints second number with operation symbol and blankspace \n",
    "# with right justification of l+2 calculated above \n",
    "print((exp_split[1] + \" \" + exp_split[2].rjust(l)))\n",
    "\n",
    "# prints separator line\n",
    "print(\"-\"*(l+2))\n",
    "\n",
    "# prints final answer with rjust l+2\n",
    "print(evaluate(t).rjust(l+2))"
   ]
  },
  {
   "cell_type": "code",
   "execution_count": null,
   "metadata": {},
   "outputs": [],
   "source": [
    "\",\".join(['abc','xy','zz'])"
   ]
  },
  {
   "cell_type": "code",
   "execution_count": null,
   "metadata": {},
   "outputs": [],
   "source": []
  },
  {
   "cell_type": "code",
   "execution_count": null,
   "metadata": {},
   "outputs": [],
   "source": [
    "first_str_list = []\n",
    "second_str_list = []\n",
    "sep_str_list = []\n",
    "ans_str_list = []\n",
    "\n",
    "\n",
    "exps = [\"32 + 698\", \"3801 - 2\"]\n"
   ]
  },
  {
   "cell_type": "code",
   "execution_count": null,
   "metadata": {},
   "outputs": [],
   "source": [
    "first_str_list = []\n",
    "second_str_list = []\n",
    "sep_str_list = []\n",
    "ans_str_list = []\n",
    "\n",
    "\n",
    "exps = [\"3 + 855\", \"3801 - 2\", \"45 + 43\", \"123 + 49\"]\n",
    "\n",
    "for exp in exps:\n",
    "    # splits the string ['num1','operation','num2']\n",
    "    exp_split = exp.split()\n",
    "\n",
    "    # calculates the maximum length of number-string\n",
    "    l = max(len(exp_split[0]),len(exp_split[2])) \n",
    "\n",
    "    # prints first number  \n",
    "    # with right justification of l+2 as calculated above \n",
    "    first_str_list.append(exp_split[0].rjust(l+2))\n",
    "\n",
    "    # prints second number with operation symbol and blankspace \n",
    "    # with right justification of l+2 calculated above \n",
    "    second_str_list.append((exp_split[1] + \" \" + exp_split[2].rjust(l)))\n",
    "\n",
    "    # prints separator line\n",
    "    sep_str_list.append(\"-\"*(l+2))\n",
    "\n",
    "    # prints final answer with rjust l+2\n",
    "    ans_str_list.append(evaluate(exp).rjust(l+2))\n",
    "    \n",
    "    #print(\"  \".join(first_str_list))\n",
    "    #print(\"  \".join(second_str_list))\n",
    "    #print(\"  \".join(sep_str_list))\n",
    "    #print(\"  \".join(ans_str_list))\n",
    "    \n",
    "    first =(\"  \".join(first_str_list))\n",
    "    second = (\"  \".join(second_str_list))\n",
    "    sep = (\"  \".join(sep_str_list))\n",
    "    ans = (\"  \".join(ans_str_list))\n",
    "    \n",
    "    res_without_solution = first + '\\n' + second + '\\n' + sep\n",
    "    res_with_solution = first + '\\n' + second + '\\n' + sep + '\\n' + ans"
   ]
  },
  {
   "cell_type": "code",
   "execution_count": null,
   "metadata": {},
   "outputs": [],
   "source": [
    "# print(\"  \".join(first_str_list))\n",
    "# print(\"  \".join(second_str_list))\n",
    "# print(\"  \".join(sep_str_list))\n",
    "# print(\"  \".join(ans_str_list))\n",
    "\n",
    "# print(first)\n",
    "# print(second)  \n",
    "# print(sep)\n",
    "# print(ans)\n",
    "\n",
    "# res_without_solution\n",
    "\n",
    "# print(res_without_solution)\n",
    "\n",
    "# print(res_with_solution)"
   ]
  },
  {
   "cell_type": "code",
   "execution_count": null,
   "metadata": {},
   "outputs": [],
   "source": []
  },
  {
   "cell_type": "code",
   "execution_count": 24,
   "metadata": {},
   "outputs": [],
   "source": [
    "\n",
    "def evaluate(s:str):\n",
    "    t = s.split()\n",
    "    res = ''\n",
    "    if t[1] == '+':\n",
    "        try:\n",
    "            res = int((t[0])) + int((t[2]))\n",
    "        except ValueError:\n",
    "            return (\"Error: Numbers must only contain digits.\")\n",
    "        return str(res)\n",
    "    \n",
    "    elif t[1] == '-':\n",
    "        try:\n",
    "            res = int(t[0]) - int(t[2])\n",
    "        except ValueError:\n",
    "            return (\"Error: Numbers must only contain digits.\")            \n",
    "        return str(res)\n",
    "    \n",
    "    else:\n",
    "         return \"Error: Operator must be '+' or '-'.\"\n",
    "    \n",
    "\n",
    "def arithmetic_arranger(problems:list,answers=False):\n",
    "    \n",
    "    if len(problems)>5:\n",
    "        return \"Error: Too many problems.\"\n",
    "    # initiate empty variables needed\n",
    "    first_str_list = []\n",
    "    second_str_list = []\n",
    "    sep_str_list = []\n",
    "    ans_str_list = []\n",
    "\n",
    "\n",
    "    exps = problems\n",
    "\n",
    "    for exp in exps:\n",
    "        # splits the string ['num1','operation','num2']\n",
    "        exp_split = exp.split()\n",
    "\n",
    "        # calculates the maximum length of number-string\n",
    "        l = max(len(exp_split[0]),len(exp_split[2])) \n",
    "\n",
    "        # prints first number  \n",
    "        # with right justification of l+2 as calculated above \n",
    "        first_str_list.append(exp_split[0].rjust(l+2))\n",
    "\n",
    "        # prints second number with operation symbol and blankspace \n",
    "        # with right justification of l+2 calculated above \n",
    "        second_str_list.append((exp_split[1] + \" \" + exp_split[2].rjust(l)))\n",
    "\n",
    "        # prints separator line\n",
    "        sep_str_list.append(\"-\"*(l+2))\n",
    "\n",
    "        # prints final answer with rjust l+2\n",
    "        ans_str_list.append(evaluate(exp).rjust(l+2))\n",
    "    \n",
    "    \n",
    "        first =(\"    \".join(first_str_list))\n",
    "        second = (\"    \".join(second_str_list))\n",
    "        sep = (\"    \".join(sep_str_list))\n",
    "        ans = (\"    \".join(ans_str_list))\n",
    "    \n",
    "        res_without_solution = first + '\\n' + second + '\\n' + sep\n",
    "        res_with_solution = first + '\\n' + second + '\\n' + sep + '\\n' + ans\n",
    "        \n",
    "        if answers == True:\n",
    "            arranged_problems = res_with_solution\n",
    "        else:\n",
    "            arranged_problems = res_without_solution\n",
    "            \n",
    "\n",
    "    return arranged_problems"
   ]
  },
  {
   "cell_type": "code",
   "execution_count": 16,
   "metadata": {},
   "outputs": [
    {
     "data": {
      "text/plain": [
       "'    3      3801      45      123\\n+ 855    -    2    + 43    +  49\\n-----    ------    ----    -----'"
      ]
     },
     "execution_count": 16,
     "metadata": {},
     "output_type": "execute_result"
    }
   ],
   "source": [
    "arithmetic_arranger([\"3 + 855\", \"3801 - 2\", \"45 + 43\", \"123 + 49\"])"
   ]
  },
  {
   "cell_type": "code",
   "execution_count": 17,
   "metadata": {},
   "outputs": [
    {
     "name": "stdout",
     "output_type": "stream",
     "text": [
      "    3      3801      45      123\n",
      "+ 855    -    2    + 43    +  49\n",
      "-----    ------    ----    -----\n",
      "  858      3799      88      172\n"
     ]
    }
   ],
   "source": [
    "print(arithmetic_arranger([\"3 + 855\", \"3801 - 2\", \"45 + 43\", \"123 + 49\"],True))"
   ]
  },
  {
   "cell_type": "code",
   "execution_count": 27,
   "metadata": {},
   "outputs": [
    {
     "data": {
      "text/plain": [
       "'Error: Numbers must only contain digits.'"
      ]
     },
     "execution_count": 27,
     "metadata": {},
     "output_type": "execute_result"
    }
   ],
   "source": [
    "evaluate(\"98 + 3g5\")"
   ]
  },
  {
   "cell_type": "code",
   "execution_count": 28,
   "metadata": {},
   "outputs": [
    {
     "data": {
      "text/plain": [
       "'    3      3801      45      123\\n/ 855    -    2    + 43    +  49\\n-----    ------    ----    -----'"
      ]
     },
     "execution_count": 28,
     "metadata": {},
     "output_type": "execute_result"
    }
   ],
   "source": [
    "arithmetic_arranger([\"3 / 855\", \"3801 - 2\", \"45 + 43\", \"123 + 49\"])"
   ]
  }
 ],
 "metadata": {
  "kernelspec": {
   "display_name": "Python 3",
   "language": "python",
   "name": "python3"
  },
  "language_info": {
   "codemirror_mode": {
    "name": "ipython",
    "version": 3
   },
   "file_extension": ".py",
   "mimetype": "text/x-python",
   "name": "python",
   "nbconvert_exporter": "python",
   "pygments_lexer": "ipython3",
   "version": "3.7.5"
  }
 },
 "nbformat": 4,
 "nbformat_minor": 4
}
